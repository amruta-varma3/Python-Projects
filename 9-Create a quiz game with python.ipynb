{
 "cells": [
  {
   "cell_type": "markdown",
   "metadata": {},
   "source": [
    "### I’ll walk you through how to create a quiz game with Python. I will create an animal quiz here. Even though the questions are about animals, this quiz can be easily changed to cover any other topic.\n",
    "\n",
    "## The logic of Quiz Game with Python\n",
    "### The Quiz game asks the player questions about animals. They have three chances to answer each question you don’t want to take the quiz too difficult. Each correct answer will score a point. At the end of the game, the program will reveal the player’s final score.\n",
    "\n",
    "### This quiz game uses a function; a block of code with a name that performs a specific task. A function allows you to use the same code several times, without having to type everything each time. Python has a lot of built-in functions, but it also allows you to create your functions.\n",
    "### The program should continue to check if there are any questions to ask and if the player has exhausted all his chances. The score is stored in a variable during the game. Once all the questions have been answered, the game ends."
   ]
  },
  {
   "cell_type": "code",
   "execution_count": 1,
   "metadata": {},
   "outputs": [
    {
     "name": "stdout",
     "output_type": "stream",
     "text": [
      "Guess the cricketer\n",
      "Correct Answer\n",
      "Correct Answer\n",
      "Correct Answer\n",
      "Your Score is 3\n"
     ]
    }
   ],
   "source": [
    "def check_guess(guess, answer):\n",
    "    global score\n",
    "    still_guessing = True\n",
    "    attempt = 0\n",
    "    while still_guessing and attempt < 3:\n",
    "        if guess.lower() == answer.lower():\n",
    "            print(\"Correct Answer\")\n",
    "            score = score + 1\n",
    "            still_guessing = False\n",
    "        else:\n",
    "            if attempt < 2:\n",
    "                guess = input(\"Sorry Wrong Answer, try again\")\n",
    "            attempt = attempt + 1\n",
    "    if attempt == 3:\n",
    "        print(\"The Correct answer is \",answer )\n",
    "\n",
    "score = 0\n",
    "print(\"Guess the cricketer\")\n",
    "guess1 = input(\"Which player has orange cap in 2024 in ipl\")\n",
    "check_guess(guess1, \"Virat Kohli\")\n",
    "guess2 = input(\"Which player is the captain of RCB in ipl\")\n",
    "check_guess(guess2, \"Faf du P\")\n",
    "guess3 = input(\"Which player has the most runs in ipl\")\n",
    "check_guess(guess3,\"Shubhman Gill\")\n",
    "\n",
    "print(\"Your Score is \"+ str(score))\n"
   ]
  }
 ],
 "metadata": {
  "kernelspec": {
   "display_name": "Python 3",
   "language": "python",
   "name": "python3"
  },
  "language_info": {
   "codemirror_mode": {
    "name": "ipython",
    "version": 3
   },
   "file_extension": ".py",
   "mimetype": "text/x-python",
   "name": "python",
   "nbconvert_exporter": "python",
   "pygments_lexer": "ipython3",
   "version": "3.10.11"
  }
 },
 "nbformat": 4,
 "nbformat_minor": 2
}
