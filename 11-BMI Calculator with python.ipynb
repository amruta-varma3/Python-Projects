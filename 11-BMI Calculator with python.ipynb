{
 "cells": [
  {
   "cell_type": "markdown",
   "metadata": {},
   "source": [
    "### The Body Mass Index or BMI is calculated from weight and height of a Person.\n",
    "\n",
    "## What is Body Mass Index (BMI)?\n",
    "\n",
    "### BMI is a measure of relative weight based on an individual’s mass and height. Today, Body Mass Index is commonly used to classify people as underweight, overweight, and even with obesity. Also, it is adopted by countries to promote healthy eating.\n",
    "\n",
    "### BMI can be considered as an alternative for direct measurements of body fat. Besides, BMI is an inexpensive and easy-to-perform method of screening for weight classes that may cause health problems.\n",
    "\n",
    "### The body mass index is calculated by dividing an individual’s weight in kilograms by their height in meters, then dividing the answer again by their height. Now create a BMI calculator with Python:"
   ]
  },
  {
   "cell_type": "code",
   "execution_count": 6,
   "metadata": {},
   "outputs": [
    {
     "name": "stdout",
     "output_type": "stream",
     "text": [
      "Your Body Mass Index is: 26.775934114974238\n",
      "You are overweight\n"
     ]
    }
   ],
   "source": [
    "Height = float(input(\"Enter your height in centimeters:\"))\n",
    "Weight = float(input(\"Enter your height in Kg:\"))\n",
    "Height = Height/100\n",
    "BMI = Weight/(Height*Height)\n",
    "print(\"Your Body Mass Index is:\",BMI)\n",
    "\n",
    "if(BMI>0):\n",
    "\tif(BMI<=16):\n",
    "\t\tprint(\"You are severely underweight\")\n",
    "\telif(BMI<=18.5):\n",
    "\t\tprint(\"You are underweight\")\n",
    "\telif(BMI<=25):\n",
    "\t\tprint(\"You are Healthy\")\n",
    "\telif(BMI<=30):\n",
    "\t\tprint(\"You are overweight\")\n",
    "\telse: print(\"You are severely overweight\")\n",
    "else:(\"Enter valid details\")\n"
   ]
  }
 ],
 "metadata": {
  "kernelspec": {
   "display_name": "Python 3",
   "language": "python",
   "name": "python3"
  },
  "language_info": {
   "codemirror_mode": {
    "name": "ipython",
    "version": 3
   },
   "file_extension": ".py",
   "mimetype": "text/x-python",
   "name": "python",
   "nbconvert_exporter": "python",
   "pygments_lexer": "ipython3",
   "version": "3.10.11"
  }
 },
 "nbformat": 4,
 "nbformat_minor": 2
}
