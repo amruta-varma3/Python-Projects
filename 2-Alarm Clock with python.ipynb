{
 "cells": [
  {
   "cell_type": "markdown",
   "metadata": {},
   "source": [
    "### An alarm clock is a clock with a function that can be activated to ring at a time set in advance, used to wake someone up. In this, I’ll walk you through how to write a Python program to create an alarm clock with Python."
   ]
  },
  {
   "cell_type": "markdown",
   "metadata": {},
   "source": [
    "### For this task, I will be using the ***DateTime*** module in Python to create an alarm clock and the sound library in Python to play the alarm sound.\n",
    "\n",
    "\n",
    "### The DateTime module comes preinstalled in the Python programming language so you can easily import it in your program. The playsound library can be easily installed by using a pip command; pip install playsound. "
   ]
  },
  {
   "cell_type": "code",
   "execution_count": 4,
   "metadata": {},
   "outputs": [],
   "source": [
    "from datetime import datetime\n",
    "from playsound import playsound\n",
    "import os\n",
    "\n",
    "alarm_time = input(\"Enter the time of the alarm to be set :HH:MM:SS\\n\")\n",
    "alarm_hour = alarm_time[0:2]\n",
    "alarm_minute = alarm_time[3:5]\n",
    "alarm_seconds = alarm_time[6:8]\n",
    "alarm_period = alarm_time[9:11].upper()\n",
    "\n",
    "print(\"Setting up alarm..\")\n",
    "\n",
    "while True:\n",
    "    now = datetime.now()\n",
    "    current_hour = now.strftime(\"%I\")\n",
    "    current_minute = now.strftime(\"%M\")\n",
    "    current_seconds = now.strftime(\"%S\")\n",
    "    current_period = now.strftime(\"%p\")\n",
    "\n",
    "    print(f\"Current time: {current_hour}:{current_minute}:{current_seconds} {current_period}\")\n",
    "    print(f\"Alarm time: {alarm_hour}:{alarm_minute}:{alarm_seconds} {alarm_period}\")\n",
    "\n",
    "    if alarm_period == current_period:\n",
    "        if alarm_hour == current_hour:\n",
    "            if alarm_minute == current_minute:\n",
    "                if alarm_seconds == current_seconds:\n",
    "                    print(\"Wake Up!\")\n",
    "                    if os.path.isfile('alarm.wav'):\n",
    "                        playsound('alarm.wav')\n",
    "                    else:\n",
    "                        print(\"Alarm sound file not found\")\n",
    "                    break\n",
    "    print(\"Sleeping for 1 second...\")\n"
   ]
  },
  {
   "cell_type": "code",
   "execution_count": 2,
   "metadata": {},
   "outputs": [
    {
     "name": "stdout",
     "output_type": "stream",
     "text": [
      "Setting up alarm..\n"
     ]
    },
    {
     "ename": "KeyboardInterrupt",
     "evalue": "",
     "output_type": "error",
     "traceback": [
      "\u001b[1;31m---------------------------------------------------------------------------\u001b[0m",
      "\u001b[1;31mKeyboardInterrupt\u001b[0m                         Traceback (most recent call last)",
      "Cell \u001b[1;32mIn[2], line 15\u001b[0m\n\u001b[0;32m     13\u001b[0m current_seconds \u001b[38;5;241m=\u001b[39m now\u001b[38;5;241m.\u001b[39mstrftime(\u001b[38;5;124m\"\u001b[39m\u001b[38;5;124m%\u001b[39m\u001b[38;5;124mS\u001b[39m\u001b[38;5;124m\"\u001b[39m)\n\u001b[0;32m     14\u001b[0m current_period \u001b[38;5;241m=\u001b[39m now\u001b[38;5;241m.\u001b[39mstrftime(\u001b[38;5;124m\"\u001b[39m\u001b[38;5;124m%\u001b[39m\u001b[38;5;124mp\u001b[39m\u001b[38;5;124m\"\u001b[39m)\n\u001b[1;32m---> 15\u001b[0m \u001b[38;5;28;01mif\u001b[39;00m(\u001b[43malarm_period\u001b[49m\u001b[38;5;241;43m==\u001b[39;49m\u001b[43mcurrent_period\u001b[49m):\n\u001b[0;32m     16\u001b[0m     \u001b[38;5;28;01mif\u001b[39;00m(alarm_hour\u001b[38;5;241m==\u001b[39mcurrent_hour):\n\u001b[0;32m     17\u001b[0m         \u001b[38;5;28;01mif\u001b[39;00m(alarm_minute\u001b[38;5;241m==\u001b[39mcurrent_minute):\n",
      "\u001b[1;31mKeyboardInterrupt\u001b[0m: "
     ]
    }
   ],
   "source": [
    "from datetime import datetime\n",
    "from playsound import playsound\n",
    "alarm_time = input(\"Enter the time of the alarm to be set :HH:MM:SS\\n\")\n",
    "alarm_hour=alarm_time[0:2]\n",
    "alarm_minute=alarm_time[3:5]\n",
    "alarm_seconds=alarm_time[6:8]\n",
    "alarm_period = alarm_time[9:11].upper()\n",
    "print(\"Setting up alarm..\")\n",
    "while True:\n",
    "    now = datetime.now()\n",
    "    current_hour = now.strftime(\"%I\")\n",
    "    current_minute = now.strftime(\"%M\")\n",
    "    current_seconds = now.strftime(\"%S\")\n",
    "    current_period = now.strftime(\"%p\")\n",
    "    if(alarm_period==current_period):\n",
    "        if(alarm_hour==current_hour):\n",
    "            if(alarm_minute==current_minute):\n",
    "                if(alarm_seconds==current_seconds):\n",
    "                    print(\"Wake Up!\")\n",
    "                    playsound('alarm.wav')\n",
    "                    break"
   ]
  }
 ],
 "metadata": {
  "kernelspec": {
   "display_name": "Python 3",
   "language": "python",
   "name": "python3"
  },
  "language_info": {
   "codemirror_mode": {
    "name": "ipython",
    "version": 3
   },
   "file_extension": ".py",
   "mimetype": "text/x-python",
   "name": "python",
   "nbconvert_exporter": "python",
   "pygments_lexer": "ipython3",
   "version": "3.10.11"
  }
 },
 "nbformat": 4,
 "nbformat_minor": 2
}
