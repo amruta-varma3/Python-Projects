{
 "cells": [
  {
   "cell_type": "markdown",
   "metadata": {},
   "source": [
    "### We can generate random stories or anything beyond that using the random module.\n",
    "\n",
    "### Our task is to generate a random story every time the user runs the program. I will first store the parts of the stories in different lists, then the Random module can be used to select the random parts of the story stored in different lists:"
   ]
  },
  {
   "cell_type": "code",
   "execution_count": 7,
   "metadata": {},
   "outputs": [
    {
     "name": "stdout",
     "output_type": "stream",
     "text": [
      "On 16th Nov, Harsh that lived in India, went to the university and made a lot of friends\n"
     ]
    }
   ],
   "source": [
    "import random\n",
    "when = ['A few years ago', 'Yesterday', 'Last night', 'A long time ago','On 16th Nov']\n",
    "who = ['a monkey', 'an elephant', 'a dog', 'a parrot','a cat']\n",
    "name = ['Amruta', 'Harsh','Gunjan', 'Ashu', 'Prassana']\n",
    "residence = ['Australia','India', 'Germany', 'Paris', 'England']\n",
    "went = ['cinema', 'university','Waterpark', 'Bowling', 'Villa']\n",
    "happened = ['made a lot of friends','Eats a burger', 'found a secret key', 'solved a cube', 'wrote a book']\n",
    "print(random.choice(when) + ', ' + random.choice(name) + ' that lived in ' + random.choice(residence) + ', went to the ' + random.choice(went) + ' and ' + random.choice(happened))\n"
   ]
  }
 ],
 "metadata": {
  "kernelspec": {
   "display_name": "Python 3",
   "language": "python",
   "name": "python3"
  },
  "language_info": {
   "codemirror_mode": {
    "name": "ipython",
    "version": 3
   },
   "file_extension": ".py",
   "mimetype": "text/x-python",
   "name": "python",
   "nbconvert_exporter": "python",
   "pygments_lexer": "ipython3",
   "version": "3.10.11"
  }
 },
 "nbformat": 4,
 "nbformat_minor": 2
}
